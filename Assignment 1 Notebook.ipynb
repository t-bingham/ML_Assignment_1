{
 "cells": [
  {
   "cell_type": "markdown",
   "metadata": {},
   "source": [
    "# Libraries"
   ]
  },
  {
   "cell_type": "code",
   "execution_count": 1,
   "metadata": {},
   "outputs": [],
   "source": [
    "import numpy as np\n",
    "import pandas as pd\n",
    "# sm - https://towardsdatascience.com/simple-and-multiple-linear-regression-in-python-c928425168f9\n",
    "#import statsmodels as sm\n",
    "import matplotlib.pyplot as plt\n",
    "import seaborn as sns\n",
    "\n",
    "from sklearn.model_selection import KFold, cross_val_score, train_test_split\n",
    "from sklearn.preprocessing import StandardScaler\n",
    "from sklearn import linear_model\n",
    "from sklearn.metrics import classification_report, accuracy_score\n",
    "from sklearn.svm import SVC\n",
    "#Which search to use?\n",
    "from sklearn.model_selection import GridSearchCV#, RandomizedSearchCV\n",
    "#For max_depth\n",
    "from sklearn.tree import DecisionTreeClassifier, plot_tree\n",
    "\n",
    "np.random.seed(50)\n",
    "\n",
    "#Plotting Params\n",
    "\n",
    "%matplotlib inline\n",
    "\n",
    "#plt.rcParams['figure.figsize'] = [20.0, 7.0]\n",
    "#plt.rcParams.update({'font.size': 22,})\n",
    "\n",
    "#sns.set_palette('viridis')\n",
    "#sns.set_style('white')\n",
    "#sns.set_context('talk', font_scale=0.8)"
   ]
  },
  {
   "cell_type": "code",
   "execution_count": 2,
   "metadata": {},
   "outputs": [],
   "source": [
    "#Get all data\n",
    "data = pd.read_csv(r'assignment1-2019-data.csv')\n",
    "from sklearn.datasets import load_digits, load_iris, load_breast_cancer, load_boston\n",
    "\n",
    "digits = load_digits()\n",
    "iris = load_iris()\n",
    "breast_cancer = load_breast_cancer()\n",
    "boston = load_boston()\n",
    "\n",
    "#Hyperparameters\n",
    "max_depth = 8 #about 30s for digits\n"
   ]
  },
  {
   "cell_type": "markdown",
   "metadata": {},
   "source": [
    "# Tuning Maximum Depth\n",
    "\n",
    "- Specify Parameters before running\n",
    "- Value impacts quality and performance of model\n",
    "- Goal is to maximise **performance** and **intelligibility**\n",
    "- Rule for performance vs complexity\n",
    "    - Maximum depth can increase by 1 for a minimum of a 2% improvement in accuracy\n",
    "- Dividing data into k-folds can be done by sklearn?\n",
    "    - Using 6-folds\n",
    "- Mximum depth as a measure of complexity\n",
    "    - Extra layer worth it for 2% improvement in accuracy"
   ]
  },
  {
   "cell_type": "code",
   "execution_count": 3,
   "metadata": {},
   "outputs": [],
   "source": [
    "#Code for Hyper-parameter Tuning goes here.\n",
    "#Not using this, used to get my head around \n",
    "\n",
    "def get_h_params(dataset):\n",
    "\n",
    "    n_samples = len(dataset.data)\n",
    "    X = dataset.data.reshape((n_samples, -1))\n",
    "    y = dataset.target\n",
    "\n",
    "    kf_data = KFold(n_splits = 6)\n",
    "\n",
    "    #Split data by kfold\n",
    "    for train_index, test_index in kf_data.split(X):\n",
    "        #print(\"TRAIN:\", train_index, \"\\n\", \"TEST:\", test_index)\n",
    "        #print(len(train_index), len(test_index))\n",
    "        X_train, X_test = X[train_index], X[test_index]\n",
    "        y_train, y_test = y[train_index], y[test_index]\n",
    "        \n",
    "        #Set the parameters by cv\n",
    "        tuned_parameters = [{'kernel': ['rbf'], 'gamma': [1e-3, 1e-4],\n",
    "                             'C': [1, 10, 100, 1000]},\n",
    "                            {'kernel': ['linear'], 'C': [1, 10, 100, 1000]}]\n",
    "        \n",
    "        scores = ['precision', 'recall']\n",
    "        \n",
    "        for score in scores:\n",
    "            for score in scores:\n",
    "                print(\"# Tuning hyper-parameters for %s.\" % score, \n",
    "                      \"this may take a while...\")\n",
    "                print()\n",
    "\n",
    "                clf = GridSearchCV(SVC(), tuned_parameters, cv=5,\n",
    "                                   scoring='%s_macro' % score)\n",
    "                clf.fit(X_train, y_train)\n",
    "\n",
    "                print(\"Best parameters set found on development set:\")\n",
    "                print()\n",
    "                print(clf.best_params_)\n",
    "                print()\n",
    "                print(\"Grid scores on development set:\")\n",
    "                print()\n",
    "                means = clf.cv_results_['mean_test_score']\n",
    "                stds = clf.cv_results_['std_test_score']\n",
    "                for mean, std, params in zip(means, stds, clf.cv_results_['params']):\n",
    "                    print(\"%0.3f (+/-%0.03f) for %r\"\n",
    "                          % (mean, std * 2, params))\n",
    "                print()\n",
    "\n",
    "                print(\"Detailed classification report:\")\n",
    "                print()\n",
    "                print(\"The model is trained on the full development set.\")\n",
    "                print(\"The scores are computed on the full evaluation set.\")\n",
    "                print()\n",
    "                y_true, y_pred = y_test, clf.predict(X_test)\n",
    "                print(classification_report(y_true, y_pred))\n",
    "                print()\n",
    "        "
   ]
  },
  {
   "cell_type": "code",
   "execution_count": 4,
   "metadata": {},
   "outputs": [],
   "source": [
    "#test\n",
    "#get_h_params(breast_cancer)"
   ]
  },
  {
   "cell_type": "code",
   "execution_count": 13,
   "metadata": {},
   "outputs": [
    {
     "data": {
      "image/png": "[encoded data removed]",
      "text/plain": [
       "<Figure size 432x288 with 1 Axes>"
      ]
     },
     "metadata": {
      "needs_background": "light"
     },
     "output_type": "display_data"
    }
   ],
   "source": [
    "dataset = digits\n",
    "#This will become a function\n",
    "#Split into test and train 30:70\n",
    "n_samples = len(dataset.data)\n",
    "X = dataset.data.reshape((n_samples, -1))\n",
    "y = dataset.target\n",
    "X_train_dataset, X_test_dataset, y_train_dataset, y_test_dataset = train_test_split(X, y, test_size=0.30, random_state=50)\n",
    "#print(len(X_train_dataset), len(X_test_dataset))\n",
    "#K-fold on training data\n",
    "kf_data = KFold(n_splits = 6)\n",
    "for train_index, test_index in kf_data.split(X_train_dataset):\n",
    "    #print(\"TRAIN:\", train_index, \"\\n\", \"TEST:\", test_index)\n",
    "    X_train, X_test = X[train_index], X[test_index]\n",
    "    y_train, y_test = y[train_index], y[test_index]\n",
    "        \n",
    "    estimator = DecisionTreeClassifier(max_depth=max_depth) #max_depth global\n",
    "    estimator.fit(X_train, y_train)\n",
    "        \n",
    "    #Tree structure arrays\n",
    "    n_nodes = estimator.tree_.node_count\n",
    "    children_left = estimator.tree_.children_left #id of left children\n",
    "    children_right = estimator.tree_.children_right #id of right children\n",
    "    feature = estimator.tree_.feature #feature used for splitting node\n",
    "    threshold = estimator.tree_.threshold #thsh value at the node\n",
    "        \n",
    "    #Plot\n",
    "    plot_tree(estimator.fit(dataset.data, dataset.target), filled = True, rounded = True)\n",
    "        \n",
    "    #accuracy = accuracy_score(y_true, y_pred)\n",
    "        \n",
    "#Test\n"
   ]
  },
  {
   "cell_type": "code",
   "execution_count": 14,
   "metadata": {},
   "outputs": [
    {
     "name": "stdout",
     "output_type": "stream",
     "text": [
      "(569, 30)\n",
      "569\n"
     ]
    }
   ],
   "source": [
    "print(breast_cancer.data.shape)\n",
    "\n",
    "# define the data/predictors as the pre-set feature names  \n",
    "df = pd.DataFrame(breast_cancer.data, columns=breast_cancer.feature_names)\n",
    "\n",
    "##Prints the data of the first 5 (Yus!)\n",
    "#print(df.head())\n",
    "\n",
    "breast_cancer.target[[11, 50, 90]]\n",
    "\n",
    "print (len(breast_cancer.data))"
   ]
  },
  {
   "cell_type": "markdown",
   "metadata": {},
   "source": [
    "# DT vs Linear Models\n",
    "\n",
    "- Hypothesis which performs well on one class of problems may be bad on another.\n",
    "- Need to **Construct a binary classsification problem**\n",
    "    - Define a function that describes the class lable of a point.\n",
    "    - We know T/F value since we define the problem.\n",
    "    - Generate training and testing data where P and N represent the + and - classes.\n",
    "- Investigate how tree sizes affect performance\n",
    "- Create visualisation of actual and learned class boundaries\n",
    "- Discuss what would happen if the problem was Rd instead of R2"
   ]
  },
  {
   "cell_type": "markdown",
   "metadata": {},
   "source": [
    "~~~\n",
    "DTree(examples, features) # returns a tree\n",
    "    if all examples are in one class:\n",
    "        return a leaf node with that class label;\n",
    "    elif the set of features is empty:\n",
    "        return a leaf node with the most common class label in examples;\n",
    "    else:\n",
    "        create a new decision (condition) node R;\n",
    "        pick a categorical feature F (or a numeric feature and a threshold);\n",
    "        for each possible outcome v_i of R:\n",
    "            add an out-going edge E_v_i to node R;\n",
    "            let examples_i be the subset of examples that result in outcome v_i;\n",
    "            if examples_i is empty:\n",
    "                attach to E_v_i a leaf node (label) that is \n",
    "                                the most common in examples;\n",
    "            else:\n",
    "                attach to E_v_i the result of DTree(examples_i, features \\ {F});\n",
    "        return the subtree rooted at R.\n",
    "~~~"
   ]
  },
  {
   "cell_type": "code",
   "execution_count": 9,
   "metadata": {},
   "outputs": [
    {
     "name": "stdout",
     "output_type": "stream",
     "text": [
      "[12.27194543]\n",
      "        0\n",
      "365  27.5\n",
      "313  21.6\n",
      "461  17.7\n",
      "158  24.3\n",
      "333  22.2\n",
      "372  50.0\n",
      "352  18.6\n",
      "379  10.2\n",
      "382  11.3\n",
      "42   25.3\n",
      "23   14.5\n",
      "295  28.6\n",
      "446  14.9\n",
      "198  34.6\n",
      "359  22.6\n",
      "427  10.9\n",
      "491  13.6\n",
      "301  22.0\n",
      "121  20.3\n",
      "294  21.7\n",
      "230  24.3\n",
      "97   38.7\n",
      "160  27.0\n",
      "420  16.7\n",
      "67   22.0\n",
      "458  14.9\n",
      "444  10.8\n",
      "242  22.2\n",
      "88   23.6\n",
      "326  23.0\n",
      "..    ...\n",
      "317  19.8\n",
      "46   20.0\n",
      "297  20.3\n",
      "331  17.1\n",
      "389  11.5\n",
      "148  17.8\n",
      "376  13.9\n",
      "29   21.0\n",
      "493  21.8\n",
      "116  21.2\n",
      "38   24.7\n",
      "456  12.7\n",
      "115  18.3\n",
      "270  21.1\n",
      "219  23.0\n",
      "293  23.9\n",
      "350  22.9\n",
      "336  19.5\n",
      "25   13.9\n",
      "191  30.5\n",
      "204  50.0\n",
      "429   9.5\n",
      "442  18.4\n",
      "411  17.2\n",
      "151  19.6\n",
      "304  36.1\n",
      "421  14.2\n",
      "497  18.3\n",
      "65   23.5\n",
      "87   22.2\n",
      "\n",
      "[102 rows x 1 columns]\n"
     ]
    }
   ],
   "source": [
    "#DT\n",
    "df_x = pd.DataFrame(boston.data, columns = boston.feature_names)\n",
    "df_y = pd.DataFrame(boston.target)\n",
    "\n",
    "model = linear_model.LinearRegression()\n",
    "\n",
    "x_train, x_test, y_train, y_test = train_test_split(df_x, df_y, test_size = 0.2, random_state = 50)\n",
    "\n",
    "model.fit(x_train, y_train)\n",
    "\n",
    "results = model.predict(x_test)\n",
    "print(results[0] )\n",
    "print(y_test)"
   ]
  },
  {
   "cell_type": "markdown",
   "metadata": {},
   "source": [
    "# Regression on Mixed Data Types\n",
    "\n",
    "- Given data set for a regression problem\n",
    "- Need to train linear regression model\n",
    "- Needs to be linear in weights and features \n",
    "- Has a categorical feature with more than two levels\n",
    "- Use entire dataset for training\n",
    "- Needs to output\n",
    "    - Mean Squared Error\n",
    "    - R^2\n",
    "    - Round coefficients to intigers\n",
    "    - Write a case based definition of the functions identified\n",
    "        - Linear expression of input variables\n",
    "        - One expression per level of variable\n",
    "    - Describe how regression was used\n",
    "    - How a new datapoint can be assigned a predicted value"
   ]
  },
  {
   "cell_type": "code",
   "execution_count": null,
   "metadata": {},
   "outputs": [],
   "source": [
    "#Code for Regression goes here."
   ]
  }
 ],
 "metadata": {
  "kernelspec": {
   "display_name": "Python 3",
   "language": "python",
   "name": "python3"
  },
  "language_info": {
   "codemirror_mode": {
    "name": "ipython",
    "version": 3
   },
   "file_extension": ".py",
   "mimetype": "text/x-python",
   "name": "python",
   "nbconvert_exporter": "python",
   "pygments_lexer": "ipython3",
   "version": "3.7.3"
  }
 },
 "nbformat": 4,
 "nbformat_minor": 2
}
